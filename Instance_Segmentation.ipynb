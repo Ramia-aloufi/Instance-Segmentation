{
  "nbformat": 4,
  "nbformat_minor": 0,
  "metadata": {
    "colab": {
      "provenance": [],
      "gpuType": "T4"
    },
    "kernelspec": {
      "name": "python3",
      "display_name": "Python 3"
    },
    "language_info": {
      "name": "python"
    },
    "accelerator": "GPU"
  },
  "cells": [
    {
      "cell_type": "markdown",
      "source": [
        "## Setting Up Your Environment - Install Required Libraries"
      ],
      "metadata": {
        "id": "oT9zxpKC1Fty"
      }
    },
    {
      "cell_type": "code",
      "execution_count": 1,
      "metadata": {
        "colab": {
          "base_uri": "https://localhost:8080/"
        },
        "id": "iKMb6Zcg1D_F",
        "outputId": "714d9f93-eb77-4bc3-d8d1-a2f56ec4f168"
      },
      "outputs": [
        {
          "output_type": "stream",
          "name": "stdout",
          "text": [
            "Collecting ultralytics\n",
            "  Downloading ultralytics-8.3.153-py3-none-any.whl.metadata (37 kB)\n",
            "Requirement already satisfied: numpy>=1.23.0 in /usr/local/lib/python3.11/dist-packages (from ultralytics) (1.26.4)\n",
            "Requirement already satisfied: matplotlib>=3.3.0 in /usr/local/lib/python3.11/dist-packages (from ultralytics) (3.10.0)\n",
            "Requirement already satisfied: opencv-python>=4.6.0 in /usr/local/lib/python3.11/dist-packages (from ultralytics) (4.11.0.86)\n",
            "Requirement already satisfied: pillow>=7.1.2 in /usr/local/lib/python3.11/dist-packages (from ultralytics) (11.1.0)\n",
            "Requirement already satisfied: pyyaml>=5.3.1 in /usr/local/lib/python3.11/dist-packages (from ultralytics) (6.0.2)\n",
            "Requirement already satisfied: requests>=2.23.0 in /usr/local/lib/python3.11/dist-packages (from ultralytics) (2.32.3)\n",
            "Requirement already satisfied: scipy>=1.4.1 in /usr/local/lib/python3.11/dist-packages (from ultralytics) (1.13.1)\n",
            "Requirement already satisfied: torch>=1.8.0 in /usr/local/lib/python3.11/dist-packages (from ultralytics) (2.5.1+cu124)\n",
            "Requirement already satisfied: torchvision>=0.9.0 in /usr/local/lib/python3.11/dist-packages (from ultralytics) (0.20.1+cu124)\n",
            "Requirement already satisfied: tqdm>=4.64.0 in /usr/local/lib/python3.11/dist-packages (from ultralytics) (4.67.1)\n",
            "Requirement already satisfied: psutil in /usr/local/lib/python3.11/dist-packages (from ultralytics) (5.9.5)\n",
            "Requirement already satisfied: py-cpuinfo in /usr/local/lib/python3.11/dist-packages (from ultralytics) (9.0.0)\n",
            "Requirement already satisfied: pandas>=1.1.4 in /usr/local/lib/python3.11/dist-packages (from ultralytics) (2.2.2)\n",
            "Collecting ultralytics-thop>=2.0.0 (from ultralytics)\n",
            "  Downloading ultralytics_thop-2.0.14-py3-none-any.whl.metadata (9.4 kB)\n",
            "Requirement already satisfied: contourpy>=1.0.1 in /usr/local/lib/python3.11/dist-packages (from matplotlib>=3.3.0->ultralytics) (1.3.1)\n",
            "Requirement already satisfied: cycler>=0.10 in /usr/local/lib/python3.11/dist-packages (from matplotlib>=3.3.0->ultralytics) (0.12.1)\n",
            "Requirement already satisfied: fonttools>=4.22.0 in /usr/local/lib/python3.11/dist-packages (from matplotlib>=3.3.0->ultralytics) (4.56.0)\n",
            "Requirement already satisfied: kiwisolver>=1.3.1 in /usr/local/lib/python3.11/dist-packages (from matplotlib>=3.3.0->ultralytics) (1.4.8)\n",
            "Requirement already satisfied: packaging>=20.0 in /usr/local/lib/python3.11/dist-packages (from matplotlib>=3.3.0->ultralytics) (24.2)\n",
            "Requirement already satisfied: pyparsing>=2.3.1 in /usr/local/lib/python3.11/dist-packages (from matplotlib>=3.3.0->ultralytics) (3.2.1)\n",
            "Requirement already satisfied: python-dateutil>=2.7 in /usr/local/lib/python3.11/dist-packages (from matplotlib>=3.3.0->ultralytics) (2.8.2)\n",
            "Requirement already satisfied: pytz>=2020.1 in /usr/local/lib/python3.11/dist-packages (from pandas>=1.1.4->ultralytics) (2025.1)\n",
            "Requirement already satisfied: tzdata>=2022.7 in /usr/local/lib/python3.11/dist-packages (from pandas>=1.1.4->ultralytics) (2025.1)\n",
            "Requirement already satisfied: charset-normalizer<4,>=2 in /usr/local/lib/python3.11/dist-packages (from requests>=2.23.0->ultralytics) (3.4.1)\n",
            "Requirement already satisfied: idna<4,>=2.5 in /usr/local/lib/python3.11/dist-packages (from requests>=2.23.0->ultralytics) (3.10)\n",
            "Requirement already satisfied: urllib3<3,>=1.21.1 in /usr/local/lib/python3.11/dist-packages (from requests>=2.23.0->ultralytics) (2.3.0)\n",
            "Requirement already satisfied: certifi>=2017.4.17 in /usr/local/lib/python3.11/dist-packages (from requests>=2.23.0->ultralytics) (2025.1.31)\n",
            "Requirement already satisfied: filelock in /usr/local/lib/python3.11/dist-packages (from torch>=1.8.0->ultralytics) (3.17.0)\n",
            "Requirement already satisfied: typing-extensions>=4.8.0 in /usr/local/lib/python3.11/dist-packages (from torch>=1.8.0->ultralytics) (4.12.2)\n",
            "Requirement already satisfied: networkx in /usr/local/lib/python3.11/dist-packages (from torch>=1.8.0->ultralytics) (3.4.2)\n",
            "Requirement already satisfied: jinja2 in /usr/local/lib/python3.11/dist-packages (from torch>=1.8.0->ultralytics) (3.1.5)\n",
            "Requirement already satisfied: fsspec in /usr/local/lib/python3.11/dist-packages (from torch>=1.8.0->ultralytics) (2024.10.0)\n",
            "Collecting nvidia-cuda-nvrtc-cu12==12.4.127 (from torch>=1.8.0->ultralytics)\n",
            "  Downloading nvidia_cuda_nvrtc_cu12-12.4.127-py3-none-manylinux2014_x86_64.whl.metadata (1.5 kB)\n",
            "Collecting nvidia-cuda-runtime-cu12==12.4.127 (from torch>=1.8.0->ultralytics)\n",
            "  Downloading nvidia_cuda_runtime_cu12-12.4.127-py3-none-manylinux2014_x86_64.whl.metadata (1.5 kB)\n",
            "Collecting nvidia-cuda-cupti-cu12==12.4.127 (from torch>=1.8.0->ultralytics)\n",
            "  Downloading nvidia_cuda_cupti_cu12-12.4.127-py3-none-manylinux2014_x86_64.whl.metadata (1.6 kB)\n",
            "Collecting nvidia-cudnn-cu12==9.1.0.70 (from torch>=1.8.0->ultralytics)\n",
            "  Downloading nvidia_cudnn_cu12-9.1.0.70-py3-none-manylinux2014_x86_64.whl.metadata (1.6 kB)\n",
            "Collecting nvidia-cublas-cu12==12.4.5.8 (from torch>=1.8.0->ultralytics)\n",
            "  Downloading nvidia_cublas_cu12-12.4.5.8-py3-none-manylinux2014_x86_64.whl.metadata (1.5 kB)\n",
            "Collecting nvidia-cufft-cu12==11.2.1.3 (from torch>=1.8.0->ultralytics)\n",
            "  Downloading nvidia_cufft_cu12-11.2.1.3-py3-none-manylinux2014_x86_64.whl.metadata (1.5 kB)\n",
            "Collecting nvidia-curand-cu12==10.3.5.147 (from torch>=1.8.0->ultralytics)\n",
            "  Downloading nvidia_curand_cu12-10.3.5.147-py3-none-manylinux2014_x86_64.whl.metadata (1.5 kB)\n",
            "Collecting nvidia-cusolver-cu12==11.6.1.9 (from torch>=1.8.0->ultralytics)\n",
            "  Downloading nvidia_cusolver_cu12-11.6.1.9-py3-none-manylinux2014_x86_64.whl.metadata (1.6 kB)\n",
            "Collecting nvidia-cusparse-cu12==12.3.1.170 (from torch>=1.8.0->ultralytics)\n",
            "  Downloading nvidia_cusparse_cu12-12.3.1.170-py3-none-manylinux2014_x86_64.whl.metadata (1.6 kB)\n",
            "Requirement already satisfied: nvidia-nccl-cu12==2.21.5 in /usr/local/lib/python3.11/dist-packages (from torch>=1.8.0->ultralytics) (2.21.5)\n",
            "Requirement already satisfied: nvidia-nvtx-cu12==12.4.127 in /usr/local/lib/python3.11/dist-packages (from torch>=1.8.0->ultralytics) (12.4.127)\n",
            "Collecting nvidia-nvjitlink-cu12==12.4.127 (from torch>=1.8.0->ultralytics)\n",
            "  Downloading nvidia_nvjitlink_cu12-12.4.127-py3-none-manylinux2014_x86_64.whl.metadata (1.5 kB)\n",
            "Requirement already satisfied: triton==3.1.0 in /usr/local/lib/python3.11/dist-packages (from torch>=1.8.0->ultralytics) (3.1.0)\n",
            "Requirement already satisfied: sympy==1.13.1 in /usr/local/lib/python3.11/dist-packages (from torch>=1.8.0->ultralytics) (1.13.1)\n",
            "Requirement already satisfied: mpmath<1.4,>=1.1.0 in /usr/local/lib/python3.11/dist-packages (from sympy==1.13.1->torch>=1.8.0->ultralytics) (1.3.0)\n",
            "Requirement already satisfied: six>=1.5 in /usr/local/lib/python3.11/dist-packages (from python-dateutil>=2.7->matplotlib>=3.3.0->ultralytics) (1.17.0)\n",
            "Requirement already satisfied: MarkupSafe>=2.0 in /usr/local/lib/python3.11/dist-packages (from jinja2->torch>=1.8.0->ultralytics) (3.0.2)\n",
            "Downloading ultralytics-8.3.153-py3-none-any.whl (1.0 MB)\n",
            "\u001b[2K   \u001b[90m━━━━━━━━━━━━━━━━━━━━━━━━━━━━━━━━━━━━━━━━\u001b[0m \u001b[32m1.0/1.0 MB\u001b[0m \u001b[31m20.9 MB/s\u001b[0m eta \u001b[36m0:00:00\u001b[0m\n",
            "\u001b[?25hDownloading nvidia_cublas_cu12-12.4.5.8-py3-none-manylinux2014_x86_64.whl (363.4 MB)\n",
            "\u001b[2K   \u001b[90m━━━━━━━━━━━━━━━━━━━━━━━━━━━━━━━━━━━━━━━━\u001b[0m \u001b[32m363.4/363.4 MB\u001b[0m \u001b[31m4.5 MB/s\u001b[0m eta \u001b[36m0:00:00\u001b[0m\n",
            "\u001b[?25hDownloading nvidia_cuda_cupti_cu12-12.4.127-py3-none-manylinux2014_x86_64.whl (13.8 MB)\n",
            "\u001b[2K   \u001b[90m━━━━━━━━━━━━━━━━━━━━━━━━━━━━━━━━━━━━━━━━\u001b[0m \u001b[32m13.8/13.8 MB\u001b[0m \u001b[31m78.1 MB/s\u001b[0m eta \u001b[36m0:00:00\u001b[0m\n",
            "\u001b[?25hDownloading nvidia_cuda_nvrtc_cu12-12.4.127-py3-none-manylinux2014_x86_64.whl (24.6 MB)\n",
            "\u001b[2K   \u001b[90m━━━━━━━━━━━━━━━━━━━━━━━━━━━━━━━━━━━━━━━━\u001b[0m \u001b[32m24.6/24.6 MB\u001b[0m \u001b[31m73.1 MB/s\u001b[0m eta \u001b[36m0:00:00\u001b[0m\n",
            "\u001b[?25hDownloading nvidia_cuda_runtime_cu12-12.4.127-py3-none-manylinux2014_x86_64.whl (883 kB)\n",
            "\u001b[2K   \u001b[90m━━━━━━━━━━━━━━━━━━━━━━━━━━━━━━━━━━━━━━━━\u001b[0m \u001b[32m883.7/883.7 kB\u001b[0m \u001b[31m50.2 MB/s\u001b[0m eta \u001b[36m0:00:00\u001b[0m\n",
            "\u001b[?25hDownloading nvidia_cudnn_cu12-9.1.0.70-py3-none-manylinux2014_x86_64.whl (664.8 MB)\n",
            "\u001b[2K   \u001b[90m━━━━━━━━━━━━━━━━━━━━━━━━━━━━━━━━━━━━━━━━\u001b[0m \u001b[32m664.8/664.8 MB\u001b[0m \u001b[31m2.0 MB/s\u001b[0m eta \u001b[36m0:00:00\u001b[0m\n",
            "\u001b[?25hDownloading nvidia_cufft_cu12-11.2.1.3-py3-none-manylinux2014_x86_64.whl (211.5 MB)\n",
            "\u001b[2K   \u001b[90m━━━━━━━━━━━━━━━━━━━━━━━━━━━━━━━━━━━━━━━━\u001b[0m \u001b[32m211.5/211.5 MB\u001b[0m \u001b[31m5.5 MB/s\u001b[0m eta \u001b[36m0:00:00\u001b[0m\n",
            "\u001b[?25hDownloading nvidia_curand_cu12-10.3.5.147-py3-none-manylinux2014_x86_64.whl (56.3 MB)\n",
            "\u001b[2K   \u001b[90m━━━━━━━━━━━━━━━━━━━━━━━━━━━━━━━━━━━━━━━━\u001b[0m \u001b[32m56.3/56.3 MB\u001b[0m \u001b[31m13.3 MB/s\u001b[0m eta \u001b[36m0:00:00\u001b[0m\n",
            "\u001b[?25hDownloading nvidia_cusolver_cu12-11.6.1.9-py3-none-manylinux2014_x86_64.whl (127.9 MB)\n",
            "\u001b[2K   \u001b[90m━━━━━━━━━━━━━━━━━━━━━━━━━━━━━━━━━━━━━━━━\u001b[0m \u001b[32m127.9/127.9 MB\u001b[0m \u001b[31m7.4 MB/s\u001b[0m eta \u001b[36m0:00:00\u001b[0m\n",
            "\u001b[?25hDownloading nvidia_cusparse_cu12-12.3.1.170-py3-none-manylinux2014_x86_64.whl (207.5 MB)\n",
            "\u001b[2K   \u001b[90m━━━━━━━━━━━━━━━━━━━━━━━━━━━━━━━━━━━━━━━━\u001b[0m \u001b[32m207.5/207.5 MB\u001b[0m \u001b[31m5.5 MB/s\u001b[0m eta \u001b[36m0:00:00\u001b[0m\n",
            "\u001b[?25hDownloading nvidia_nvjitlink_cu12-12.4.127-py3-none-manylinux2014_x86_64.whl (21.1 MB)\n",
            "\u001b[2K   \u001b[90m━━━━━━━━━━━━━━━━━━━━━━━━━━━━━━━━━━━━━━━━\u001b[0m \u001b[32m21.1/21.1 MB\u001b[0m \u001b[31m105.8 MB/s\u001b[0m eta \u001b[36m0:00:00\u001b[0m\n",
            "\u001b[?25hDownloading ultralytics_thop-2.0.14-py3-none-any.whl (26 kB)\n",
            "Installing collected packages: nvidia-nvjitlink-cu12, nvidia-curand-cu12, nvidia-cufft-cu12, nvidia-cuda-runtime-cu12, nvidia-cuda-nvrtc-cu12, nvidia-cuda-cupti-cu12, nvidia-cublas-cu12, nvidia-cusparse-cu12, nvidia-cudnn-cu12, nvidia-cusolver-cu12, ultralytics-thop, ultralytics\n",
            "  Attempting uninstall: nvidia-nvjitlink-cu12\n",
            "    Found existing installation: nvidia-nvjitlink-cu12 12.5.82\n",
            "    Uninstalling nvidia-nvjitlink-cu12-12.5.82:\n",
            "      Successfully uninstalled nvidia-nvjitlink-cu12-12.5.82\n",
            "  Attempting uninstall: nvidia-curand-cu12\n",
            "    Found existing installation: nvidia-curand-cu12 10.3.6.82\n",
            "    Uninstalling nvidia-curand-cu12-10.3.6.82:\n",
            "      Successfully uninstalled nvidia-curand-cu12-10.3.6.82\n",
            "  Attempting uninstall: nvidia-cufft-cu12\n",
            "    Found existing installation: nvidia-cufft-cu12 11.2.3.61\n",
            "    Uninstalling nvidia-cufft-cu12-11.2.3.61:\n",
            "      Successfully uninstalled nvidia-cufft-cu12-11.2.3.61\n",
            "  Attempting uninstall: nvidia-cuda-runtime-cu12\n",
            "    Found existing installation: nvidia-cuda-runtime-cu12 12.5.82\n",
            "    Uninstalling nvidia-cuda-runtime-cu12-12.5.82:\n",
            "      Successfully uninstalled nvidia-cuda-runtime-cu12-12.5.82\n",
            "  Attempting uninstall: nvidia-cuda-nvrtc-cu12\n",
            "    Found existing installation: nvidia-cuda-nvrtc-cu12 12.5.82\n",
            "    Uninstalling nvidia-cuda-nvrtc-cu12-12.5.82:\n",
            "      Successfully uninstalled nvidia-cuda-nvrtc-cu12-12.5.82\n",
            "  Attempting uninstall: nvidia-cuda-cupti-cu12\n",
            "    Found existing installation: nvidia-cuda-cupti-cu12 12.5.82\n",
            "    Uninstalling nvidia-cuda-cupti-cu12-12.5.82:\n",
            "      Successfully uninstalled nvidia-cuda-cupti-cu12-12.5.82\n",
            "  Attempting uninstall: nvidia-cublas-cu12\n",
            "    Found existing installation: nvidia-cublas-cu12 12.5.3.2\n",
            "    Uninstalling nvidia-cublas-cu12-12.5.3.2:\n",
            "      Successfully uninstalled nvidia-cublas-cu12-12.5.3.2\n",
            "  Attempting uninstall: nvidia-cusparse-cu12\n",
            "    Found existing installation: nvidia-cusparse-cu12 12.5.1.3\n",
            "    Uninstalling nvidia-cusparse-cu12-12.5.1.3:\n",
            "      Successfully uninstalled nvidia-cusparse-cu12-12.5.1.3\n",
            "  Attempting uninstall: nvidia-cudnn-cu12\n",
            "    Found existing installation: nvidia-cudnn-cu12 9.3.0.75\n",
            "    Uninstalling nvidia-cudnn-cu12-9.3.0.75:\n",
            "      Successfully uninstalled nvidia-cudnn-cu12-9.3.0.75\n",
            "  Attempting uninstall: nvidia-cusolver-cu12\n",
            "    Found existing installation: nvidia-cusolver-cu12 11.6.3.83\n",
            "    Uninstalling nvidia-cusolver-cu12-11.6.3.83:\n",
            "      Successfully uninstalled nvidia-cusolver-cu12-11.6.3.83\n",
            "Successfully installed nvidia-cublas-cu12-12.4.5.8 nvidia-cuda-cupti-cu12-12.4.127 nvidia-cuda-nvrtc-cu12-12.4.127 nvidia-cuda-runtime-cu12-12.4.127 nvidia-cudnn-cu12-9.1.0.70 nvidia-cufft-cu12-11.2.1.3 nvidia-curand-cu12-10.3.5.147 nvidia-cusolver-cu12-11.6.1.9 nvidia-cusparse-cu12-12.3.1.170 nvidia-nvjitlink-cu12-12.4.127 ultralytics-8.3.153 ultralytics-thop-2.0.14\n"
          ]
        }
      ],
      "source": [
        "# Install the Ultralytics YOLOv8 package and other requirements\n",
        "!pip install ultralytics\n",
        "!pip install -q opencv-python matplotlib\n",
        ""
      ]
    },
    {
      "cell_type": "code",
      "source": [
        "# Import required libraries\n",
        "import torch\n",
        "from ultralytics import YOLO\n",
        "import matplotlib.pyplot as plt\n",
        "import cv2\n",
        "import numpy as np\n",
        "from google.colab.patches import cv2_imshow  # For displaying images in Colab\n",
        "\n",
        "# Check if GPU is available\n",
        "print(f\"Is CUDA available: {torch.cuda.is_available()}\")\n",
        "if torch.cuda.is_available():\n",
        "    print(f\"Current device: {torch.cuda.get_device_name(0)}\")\n",
        "else:\n",
        "    print(\"Running on CPU. This will be much slower!\")"
      ],
      "metadata": {
        "colab": {
          "base_uri": "https://localhost:8080/"
        },
        "id": "wJmpHTOn1MP8",
        "outputId": "c8d3e790-5e77-4751-fac7-1c0b562a6938"
      },
      "execution_count": 2,
      "outputs": [
        {
          "output_type": "stream",
          "name": "stdout",
          "text": [
            "Creating new Ultralytics Settings v0.0.6 file ✅ \n",
            "View Ultralytics Settings with 'yolo settings' or at '/root/.config/Ultralytics/settings.json'\n",
            "Update Settings with 'yolo settings key=value', i.e. 'yolo settings runs_dir=path/to/dir'. For help see https://docs.ultralytics.com/quickstart/#ultralytics-settings.\n",
            "Is CUDA available: True\n",
            "Current device: Tesla T4\n"
          ]
        }
      ]
    },
    {
      "cell_type": "markdown",
      "source": [
        "## Download a Pre-trained YOLO Segmentation Model"
      ],
      "metadata": {
        "id": "5jSEg-JY1QDS"
      }
    },
    {
      "cell_type": "code",
      "source": [
        "from ultralytics import YOLO\n",
        "# Load the YOLOv8 nano segmentation model\n",
        "model = YOLO('yolov8n-seg.pt')\n",
        "# Print model summary\n",
        "print(\"Model summary:\")\n",
        "model.info()  # This prints directly to output\n"
      ],
      "metadata": {
        "colab": {
          "base_uri": "https://localhost:8080/"
        },
        "id": "8npuAUdF1Rtf",
        "outputId": "9873d247-329d-4635-9d76-1070dc749512"
      },
      "execution_count": 3,
      "outputs": [
        {
          "output_type": "stream",
          "name": "stdout",
          "text": [
            "Downloading https://github.com/ultralytics/assets/releases/download/v8.3.0/yolov8n-seg.pt to 'yolov8n-seg.pt'...\n"
          ]
        },
        {
          "output_type": "stream",
          "name": "stderr",
          "text": [
            "100%|██████████| 6.74M/6.74M [00:00<00:00, 134MB/s]\n"
          ]
        },
        {
          "output_type": "stream",
          "name": "stdout",
          "text": [
            "Model summary:\n",
            "YOLOv8n-seg summary: 151 layers, 3,409,968 parameters, 0 gradients, 12.8 GFLOPs\n"
          ]
        },
        {
          "output_type": "execute_result",
          "data": {
            "text/plain": [
              "(151, 3409968, 0, 12.772710400000001)"
            ]
          },
          "metadata": {},
          "execution_count": 3
        }
      ]
    },
    {
      "cell_type": "markdown",
      "source": [
        "## Download and Prepare the Segmentation Dataset"
      ],
      "metadata": {
        "id": "mOE2mgQo1gi_"
      }
    },
    {
      "cell_type": "code",
      "source": [
        "# Download the COCO128-seg dataset (a subset of COCO with segmentation annotations)\n",
        "!yolo task=segment mode=train data=coco128-seg.yaml epochs=1\n",
        "\n",
        "print(\"\\nDataset information:\")\n",
        "print(\"====================\")\n",
        "print(\"Number of classes: 80 (COCO dataset)\")\n",
        "print(\"Number of images: 128\")\n",
        "print(\"Annotations include both bounding boxes and segmentation masks\")"
      ],
      "metadata": {
        "colab": {
          "base_uri": "https://localhost:8080/"
        },
        "id": "kgRL3RoR1gT8",
        "outputId": "982e1766-fdcf-4ac3-8f41-08e8f7568952"
      },
      "execution_count": 4,
      "outputs": [
        {
          "output_type": "stream",
          "name": "stdout",
          "text": [
            "Downloading https://github.com/ultralytics/assets/releases/download/v8.3.0/yolo11n-seg.pt to 'yolo11n-seg.pt'...\n",
            "100% 5.90M/5.90M [00:00<00:00, 101MB/s]\n",
            "Ultralytics 8.3.153 🚀 Python-3.11.11 torch-2.5.1+cu124 CUDA:0 (Tesla T4, 15095MiB)\n",
            "\u001b[34m\u001b[1mengine/trainer: \u001b[0magnostic_nms=False, amp=True, augment=False, auto_augment=randaugment, batch=16, bgr=0.0, box=7.5, cache=False, cfg=None, classes=None, close_mosaic=10, cls=0.5, conf=None, copy_paste=0.0, copy_paste_mode=flip, cos_lr=False, cutmix=0.0, data=coco128-seg.yaml, degrees=0.0, deterministic=True, device=None, dfl=1.5, dnn=False, dropout=0.0, dynamic=False, embed=None, epochs=1, erasing=0.4, exist_ok=False, fliplr=0.5, flipud=0.0, format=torchscript, fraction=1.0, freeze=None, half=False, hsv_h=0.015, hsv_s=0.7, hsv_v=0.4, imgsz=640, int8=False, iou=0.7, keras=False, kobj=1.0, line_width=None, lr0=0.01, lrf=0.01, mask_ratio=4, max_det=300, mixup=0.0, mode=train, model=yolo11n-seg.pt, momentum=0.937, mosaic=1.0, multi_scale=False, name=train, nbs=64, nms=False, opset=None, optimize=False, optimizer=auto, overlap_mask=True, patience=100, perspective=0.0, plots=True, pose=12.0, pretrained=True, profile=False, project=None, rect=False, resume=False, retina_masks=False, save=True, save_conf=False, save_crop=False, save_dir=runs/segment/train, save_frames=False, save_json=False, save_period=-1, save_txt=False, scale=0.5, seed=0, shear=0.0, show=False, show_boxes=True, show_conf=True, show_labels=True, simplify=True, single_cls=False, source=None, split=val, stream_buffer=False, task=segment, time=None, tracker=botsort.yaml, translate=0.1, val=True, verbose=True, vid_stride=1, visualize=False, warmup_bias_lr=0.1, warmup_epochs=3.0, warmup_momentum=0.8, weight_decay=0.0005, workers=8, workspace=None\n",
            "\n",
            "WARNING ⚠️ Dataset 'coco128-seg.yaml' images not found, missing path '/content/datasets/coco128-seg/images/train2017'\n",
            "Downloading https://ultralytics.com/assets/coco128-seg.zip to '/content/datasets/coco128-seg.zip'...\n",
            "100% 6.79M/6.79M [00:00<00:00, 57.5MB/s]\n",
            "Unzipping /content/datasets/coco128-seg.zip to /content/datasets/coco128-seg...: 100% 263/263 [00:00<00:00, 2835.50file/s]\n",
            "Dataset download success ✅ (1.0s), saved to \u001b[1m/content/datasets\u001b[0m\n",
            "\n",
            "Downloading https://ultralytics.com/assets/Arial.ttf to '/root/.config/Ultralytics/Arial.ttf'...\n",
            "100% 755k/755k [00:00<00:00, 16.4MB/s]\n",
            "\n",
            "                   from  n    params  module                                       arguments                     \n",
            "  0                  -1  1       464  ultralytics.nn.modules.conv.Conv             [3, 16, 3, 2]                 \n",
            "  1                  -1  1      4672  ultralytics.nn.modules.conv.Conv             [16, 32, 3, 2]                \n",
            "  2                  -1  1      6640  ultralytics.nn.modules.block.C3k2            [32, 64, 1, False, 0.25]      \n",
            "  3                  -1  1     36992  ultralytics.nn.modules.conv.Conv             [64, 64, 3, 2]                \n",
            "  4                  -1  1     26080  ultralytics.nn.modules.block.C3k2            [64, 128, 1, False, 0.25]     \n",
            "  5                  -1  1    147712  ultralytics.nn.modules.conv.Conv             [128, 128, 3, 2]              \n",
            "  6                  -1  1     87040  ultralytics.nn.modules.block.C3k2            [128, 128, 1, True]           \n",
            "  7                  -1  1    295424  ultralytics.nn.modules.conv.Conv             [128, 256, 3, 2]              \n",
            "  8                  -1  1    346112  ultralytics.nn.modules.block.C3k2            [256, 256, 1, True]           \n",
            "  9                  -1  1    164608  ultralytics.nn.modules.block.SPPF            [256, 256, 5]                 \n",
            " 10                  -1  1    249728  ultralytics.nn.modules.block.C2PSA           [256, 256, 1]                 \n",
            " 11                  -1  1         0  torch.nn.modules.upsampling.Upsample         [None, 2, 'nearest']          \n",
            " 12             [-1, 6]  1         0  ultralytics.nn.modules.conv.Concat           [1]                           \n",
            " 13                  -1  1    111296  ultralytics.nn.modules.block.C3k2            [384, 128, 1, False]          \n",
            " 14                  -1  1         0  torch.nn.modules.upsampling.Upsample         [None, 2, 'nearest']          \n",
            " 15             [-1, 4]  1         0  ultralytics.nn.modules.conv.Concat           [1]                           \n",
            " 16                  -1  1     32096  ultralytics.nn.modules.block.C3k2            [256, 64, 1, False]           \n",
            " 17                  -1  1     36992  ultralytics.nn.modules.conv.Conv             [64, 64, 3, 2]                \n",
            " 18            [-1, 13]  1         0  ultralytics.nn.modules.conv.Concat           [1]                           \n",
            " 19                  -1  1     86720  ultralytics.nn.modules.block.C3k2            [192, 128, 1, False]          \n",
            " 20                  -1  1    147712  ultralytics.nn.modules.conv.Conv             [128, 128, 3, 2]              \n",
            " 21            [-1, 10]  1         0  ultralytics.nn.modules.conv.Concat           [1]                           \n",
            " 22                  -1  1    378880  ultralytics.nn.modules.block.C3k2            [384, 256, 1, True]           \n",
            " 23        [16, 19, 22]  1    717680  ultralytics.nn.modules.head.Segment          [80, 32, 64, [64, 128, 256]]  \n",
            "YOLO11n-seg summary: 203 layers, 2,876,848 parameters, 2,876,832 gradients, 10.5 GFLOPs\n",
            "\n",
            "Transferred 561/561 items from pretrained weights\n",
            "Freezing layer 'model.23.dfl.conv.weight'\n",
            "\u001b[34m\u001b[1mAMP: \u001b[0mrunning Automatic Mixed Precision (AMP) checks...\n",
            "Downloading https://github.com/ultralytics/assets/releases/download/v8.3.0/yolo11n.pt to 'yolo11n.pt'...\n",
            "100% 5.35M/5.35M [00:00<00:00, 95.4MB/s]\n",
            "\u001b[34m\u001b[1mAMP: \u001b[0mchecks passed ✅\n",
            "\u001b[34m\u001b[1mtrain: \u001b[0mFast image access ✅ (ping: 0.0±0.0 ms, read: 1588.2±501.6 MB/s, size: 50.9 KB)\n",
            "\u001b[34m\u001b[1mtrain: \u001b[0mScanning /content/datasets/coco128-seg/labels/train2017... 126 images, 2 backgrounds, 0 corrupt: 100% 128/128 [00:00<00:00, 1544.40it/s]\n",
            "\u001b[34m\u001b[1mtrain: \u001b[0mNew cache created: /content/datasets/coco128-seg/labels/train2017.cache\n",
            "\u001b[34m\u001b[1malbumentations: \u001b[0mBlur(p=0.01, blur_limit=(3, 7)), MedianBlur(p=0.01, blur_limit=(3, 7)), ToGray(p=0.01, num_output_channels=3, method='weighted_average'), CLAHE(p=0.01, clip_limit=(1.0, 4.0), tile_grid_size=(8, 8))\n",
            "\u001b[34m\u001b[1mval: \u001b[0mFast image access ✅ (ping: 0.0±0.0 ms, read: 420.3±83.8 MB/s, size: 52.5 KB)\n",
            "\u001b[34m\u001b[1mval: \u001b[0mScanning /content/datasets/coco128-seg/labels/train2017.cache... 126 images, 2 backgrounds, 0 corrupt: 100% 128/128 [00:00<?, ?it/s]\n",
            "Plotting labels to runs/segment/train/labels.jpg... \n",
            "\u001b[34m\u001b[1moptimizer:\u001b[0m 'optimizer=auto' found, ignoring 'lr0=0.01' and 'momentum=0.937' and determining best 'optimizer', 'lr0' and 'momentum' automatically... \n",
            "\u001b[34m\u001b[1moptimizer:\u001b[0m AdamW(lr=0.000119, momentum=0.9) with parameter groups 90 weight(decay=0.0), 101 weight(decay=0.0005), 100 bias(decay=0.0)\n",
            "Image sizes 640 train, 640 val\n",
            "Using 2 dataloader workers\n",
            "Logging results to \u001b[1mruns/segment/train\u001b[0m\n",
            "Starting training for 1 epochs...\n",
            "\n",
            "      Epoch    GPU_mem   box_loss   seg_loss   cls_loss   dfl_loss  Instances       Size\n",
            "        1/1      3.45G      1.096      2.531      1.445      1.142        181        640: 100% 8/8 [00:08<00:00,  1.06s/it]\n",
            "                 Class     Images  Instances      Box(P          R      mAP50  mAP50-95)     Mask(P          R      mAP50  mAP50-95):   0% 0/4 [00:00<?, ?it/s]WARNING ⚠️ Limiting validation plots to first 50 items per image for speed...\n",
            "WARNING ⚠️ Limiting validation plots to first 50 items per image for speed...\n",
            "WARNING ⚠️ Limiting validation plots to first 50 items per image for speed...\n",
            "WARNING ⚠️ Limiting validation plots to first 50 items per image for speed...\n",
            "WARNING ⚠️ Limiting validation plots to first 50 items per image for speed...\n",
            "WARNING ⚠️ Limiting validation plots to first 50 items per image for speed...\n",
            "WARNING ⚠️ Limiting validation plots to first 50 items per image for speed...\n",
            "WARNING ⚠️ Limiting validation plots to first 50 items per image for speed...\n",
            "WARNING ⚠️ Limiting validation plots to first 50 items per image for speed...\n",
            "WARNING ⚠️ Limiting validation plots to first 50 items per image for speed...\n",
            "WARNING ⚠️ Limiting validation plots to first 50 items per image for speed...\n",
            "WARNING ⚠️ Limiting validation plots to first 50 items per image for speed...\n",
            "WARNING ⚠️ Limiting validation plots to first 50 items per image for speed...\n",
            "WARNING ⚠️ Limiting validation plots to first 50 items per image for speed...\n",
            "WARNING ⚠️ Limiting validation plots to first 50 items per image for speed...\n",
            "WARNING ⚠️ Limiting validation plots to first 50 items per image for speed...\n",
            "WARNING ⚠️ Limiting validation plots to first 50 items per image for speed...\n",
            "WARNING ⚠️ Limiting validation plots to first 50 items per image for speed...\n",
            "WARNING ⚠️ Limiting validation plots to first 50 items per image for speed...\n",
            "WARNING ⚠️ Limiting validation plots to first 50 items per image for speed...\n",
            "WARNING ⚠️ Limiting validation plots to first 50 items per image for speed...\n",
            "WARNING ⚠️ Limiting validation plots to first 50 items per image for speed...\n",
            "WARNING ⚠️ Limiting validation plots to first 50 items per image for speed...\n",
            "WARNING ⚠️ Limiting validation plots to first 50 items per image for speed...\n",
            "WARNING ⚠️ Limiting validation plots to first 50 items per image for speed...\n",
            "                 Class     Images  Instances      Box(P          R      mAP50  mAP50-95)     Mask(P          R      mAP50  mAP50-95):  25% 1/4 [00:01<00:03,  1.20s/it]WARNING ⚠️ Limiting validation plots to first 50 items per image for speed...\n",
            "WARNING ⚠️ Limiting validation plots to first 50 items per image for speed...\n",
            "WARNING ⚠️ Limiting validation plots to first 50 items per image for speed...\n",
            "WARNING ⚠️ Limiting validation plots to first 50 items per image for speed...\n",
            "WARNING ⚠️ Limiting validation plots to first 50 items per image for speed...\n",
            "WARNING ⚠️ Limiting validation plots to first 50 items per image for speed...\n",
            "WARNING ⚠️ Limiting validation plots to first 50 items per image for speed...\n",
            "WARNING ⚠️ Limiting validation plots to first 50 items per image for speed...\n",
            "WARNING ⚠️ Limiting validation plots to first 50 items per image for speed...\n",
            "WARNING ⚠️ Limiting validation plots to first 50 items per image for speed...\n",
            "WARNING ⚠️ Limiting validation plots to first 50 items per image for speed...\n",
            "WARNING ⚠️ Limiting validation plots to first 50 items per image for speed...\n",
            "WARNING ⚠️ Limiting validation plots to first 50 items per image for speed...\n",
            "WARNING ⚠️ Limiting validation plots to first 50 items per image for speed...\n",
            "WARNING ⚠️ Limiting validation plots to first 50 items per image for speed...\n",
            "WARNING ⚠️ Limiting validation plots to first 50 items per image for speed...\n",
            "WARNING ⚠️ Limiting validation plots to first 50 items per image for speed...\n",
            "WARNING ⚠️ Limiting validation plots to first 50 items per image for speed...\n",
            "WARNING ⚠️ Limiting validation plots to first 50 items per image for speed...\n",
            "WARNING ⚠️ Limiting validation plots to first 50 items per image for speed...\n",
            "WARNING ⚠️ Limiting validation plots to first 50 items per image for speed...\n",
            "WARNING ⚠️ Limiting validation plots to first 50 items per image for speed...\n",
            "WARNING ⚠️ Limiting validation plots to first 50 items per image for speed...\n",
            "                 Class     Images  Instances      Box(P          R      mAP50  mAP50-95)     Mask(P          R      mAP50  mAP50-95):  50% 2/4 [00:03<00:03,  1.62s/it]WARNING ⚠️ Limiting validation plots to first 50 items per image for speed...\n",
            "WARNING ⚠️ Limiting validation plots to first 50 items per image for speed...\n",
            "WARNING ⚠️ Limiting validation plots to first 50 items per image for speed...\n",
            "WARNING ⚠️ Limiting validation plots to first 50 items per image for speed...\n",
            "WARNING ⚠️ Limiting validation plots to first 50 items per image for speed...\n",
            "WARNING ⚠️ Limiting validation plots to first 50 items per image for speed...\n",
            "WARNING ⚠️ Limiting validation plots to first 50 items per image for speed...\n",
            "WARNING ⚠️ Limiting validation plots to first 50 items per image for speed...\n",
            "WARNING ⚠️ Limiting validation plots to first 50 items per image for speed...\n",
            "WARNING ⚠️ Limiting validation plots to first 50 items per image for speed...\n",
            "WARNING ⚠️ Limiting validation plots to first 50 items per image for speed...\n",
            "WARNING ⚠️ Limiting validation plots to first 50 items per image for speed...\n",
            "WARNING ⚠️ Limiting validation plots to first 50 items per image for speed...\n",
            "WARNING ⚠️ Limiting validation plots to first 50 items per image for speed...\n",
            "WARNING ⚠️ Limiting validation plots to first 50 items per image for speed...\n",
            "WARNING ⚠️ Limiting validation plots to first 50 items per image for speed...\n",
            "WARNING ⚠️ Limiting validation plots to first 50 items per image for speed...\n",
            "WARNING ⚠️ Limiting validation plots to first 50 items per image for speed...\n",
            "WARNING ⚠️ Limiting validation plots to first 50 items per image for speed...\n",
            "WARNING ⚠️ Limiting validation plots to first 50 items per image for speed...\n",
            "WARNING ⚠️ Limiting validation plots to first 50 items per image for speed...\n",
            "WARNING ⚠️ Limiting validation plots to first 50 items per image for speed...\n",
            "WARNING ⚠️ Limiting validation plots to first 50 items per image for speed...\n",
            "WARNING ⚠️ Limiting validation plots to first 50 items per image for speed...\n",
            "WARNING ⚠️ Limiting validation plots to first 50 items per image for speed...\n",
            "WARNING ⚠️ Limiting validation plots to first 50 items per image for speed...\n",
            "WARNING ⚠️ Limiting validation plots to first 50 items per image for speed...\n",
            "WARNING ⚠️ Limiting validation plots to first 50 items per image for speed...\n",
            "WARNING ⚠️ Limiting validation plots to first 50 items per image for speed...\n",
            "                 Class     Images  Instances      Box(P          R      mAP50  mAP50-95)     Mask(P          R      mAP50  mAP50-95): 100% 4/4 [00:06<00:00,  1.69s/it]\n",
            "                   all        128        929      0.737      0.565      0.661      0.504      0.722      0.553      0.628      0.407\n",
            "\n",
            "1 epochs completed in 0.006 hours.\n",
            "Optimizer stripped from runs/segment/train/weights/last.pt, 6.1MB\n",
            "Optimizer stripped from runs/segment/train/weights/best.pt, 6.1MB\n",
            "\n",
            "Validating runs/segment/train/weights/best.pt...\n",
            "Ultralytics 8.3.153 🚀 Python-3.11.11 torch-2.5.1+cu124 CUDA:0 (Tesla T4, 15095MiB)\n",
            "YOLO11n-seg summary (fused): 113 layers, 2,868,664 parameters, 0 gradients, 10.4 GFLOPs\n",
            "                 Class     Images  Instances      Box(P          R      mAP50  mAP50-95)     Mask(P          R      mAP50  mAP50-95):   0% 0/4 [00:00<?, ?it/s]WARNING ⚠️ Limiting validation plots to first 50 items per image for speed...\n",
            "WARNING ⚠️ Limiting validation plots to first 50 items per image for speed...\n",
            "WARNING ⚠️ Limiting validation plots to first 50 items per image for speed...\n",
            "WARNING ⚠️ Limiting validation plots to first 50 items per image for speed...\n",
            "WARNING ⚠️ Limiting validation plots to first 50 items per image for speed...\n",
            "WARNING ⚠️ Limiting validation plots to first 50 items per image for speed...\n",
            "WARNING ⚠️ Limiting validation plots to first 50 items per image for speed...\n",
            "WARNING ⚠️ Limiting validation plots to first 50 items per image for speed...\n",
            "WARNING ⚠️ Limiting validation plots to first 50 items per image for speed...\n",
            "WARNING ⚠️ Limiting validation plots to first 50 items per image for speed...\n",
            "WARNING ⚠️ Limiting validation plots to first 50 items per image for speed...\n",
            "WARNING ⚠️ Limiting validation plots to first 50 items per image for speed...\n",
            "WARNING ⚠️ Limiting validation plots to first 50 items per image for speed...\n",
            "WARNING ⚠️ Limiting validation plots to first 50 items per image for speed...\n",
            "WARNING ⚠️ Limiting validation plots to first 50 items per image for speed...\n",
            "WARNING ⚠️ Limiting validation plots to first 50 items per image for speed...\n",
            "WARNING ⚠️ Limiting validation plots to first 50 items per image for speed...\n",
            "WARNING ⚠️ Limiting validation plots to first 50 items per image for speed...\n",
            "WARNING ⚠️ Limiting validation plots to first 50 items per image for speed...\n",
            "WARNING ⚠️ Limiting validation plots to first 50 items per image for speed...\n",
            "WARNING ⚠️ Limiting validation plots to first 50 items per image for speed...\n",
            "WARNING ⚠️ Limiting validation plots to first 50 items per image for speed...\n",
            "WARNING ⚠️ Limiting validation plots to first 50 items per image for speed...\n",
            "WARNING ⚠️ Limiting validation plots to first 50 items per image for speed...\n",
            "WARNING ⚠️ Limiting validation plots to first 50 items per image for speed...\n",
            "                 Class     Images  Instances      Box(P          R      mAP50  mAP50-95)     Mask(P          R      mAP50  mAP50-95):  25% 1/4 [00:00<00:01,  2.44it/s]WARNING ⚠️ Limiting validation plots to first 50 items per image for speed...\n",
            "WARNING ⚠️ Limiting validation plots to first 50 items per image for speed...\n",
            "WARNING ⚠️ Limiting validation plots to first 50 items per image for speed...\n",
            "WARNING ⚠️ Limiting validation plots to first 50 items per image for speed...\n",
            "WARNING ⚠️ Limiting validation plots to first 50 items per image for speed...\n",
            "WARNING ⚠️ Limiting validation plots to first 50 items per image for speed...\n",
            "WARNING ⚠️ Limiting validation plots to first 50 items per image for speed...\n",
            "WARNING ⚠️ Limiting validation plots to first 50 items per image for speed...\n",
            "WARNING ⚠️ Limiting validation plots to first 50 items per image for speed...\n",
            "WARNING ⚠️ Limiting validation plots to first 50 items per image for speed...\n",
            "WARNING ⚠️ Limiting validation plots to first 50 items per image for speed...\n",
            "WARNING ⚠️ Limiting validation plots to first 50 items per image for speed...\n",
            "WARNING ⚠️ Limiting validation plots to first 50 items per image for speed...\n",
            "WARNING ⚠️ Limiting validation plots to first 50 items per image for speed...\n",
            "WARNING ⚠️ Limiting validation plots to first 50 items per image for speed...\n",
            "WARNING ⚠️ Limiting validation plots to first 50 items per image for speed...\n",
            "WARNING ⚠️ Limiting validation plots to first 50 items per image for speed...\n",
            "WARNING ⚠️ Limiting validation plots to first 50 items per image for speed...\n",
            "WARNING ⚠️ Limiting validation plots to first 50 items per image for speed...\n",
            "WARNING ⚠️ Limiting validation plots to first 50 items per image for speed...\n",
            "WARNING ⚠️ Limiting validation plots to first 50 items per image for speed...\n",
            "WARNING ⚠️ Limiting validation plots to first 50 items per image for speed...\n",
            "WARNING ⚠️ Limiting validation plots to first 50 items per image for speed...\n",
            "                 Class     Images  Instances      Box(P          R      mAP50  mAP50-95)     Mask(P          R      mAP50  mAP50-95):  50% 2/4 [00:01<00:01,  1.27it/s]WARNING ⚠️ Limiting validation plots to first 50 items per image for speed...\n",
            "WARNING ⚠️ Limiting validation plots to first 50 items per image for speed...\n",
            "WARNING ⚠️ Limiting validation plots to first 50 items per image for speed...\n",
            "WARNING ⚠️ Limiting validation plots to first 50 items per image for speed...\n",
            "WARNING ⚠️ Limiting validation plots to first 50 items per image for speed...\n",
            "WARNING ⚠️ Limiting validation plots to first 50 items per image for speed...\n",
            "WARNING ⚠️ Limiting validation plots to first 50 items per image for speed...\n",
            "WARNING ⚠️ Limiting validation plots to first 50 items per image for speed...\n",
            "WARNING ⚠️ Limiting validation plots to first 50 items per image for speed...\n",
            "WARNING ⚠️ Limiting validation plots to first 50 items per image for speed...\n",
            "WARNING ⚠️ Limiting validation plots to first 50 items per image for speed...\n",
            "WARNING ⚠️ Limiting validation plots to first 50 items per image for speed...\n",
            "WARNING ⚠️ Limiting validation plots to first 50 items per image for speed...\n",
            "WARNING ⚠️ Limiting validation plots to first 50 items per image for speed...\n",
            "WARNING ⚠️ Limiting validation plots to first 50 items per image for speed...\n",
            "WARNING ⚠️ Limiting validation plots to first 50 items per image for speed...\n",
            "WARNING ⚠️ Limiting validation plots to first 50 items per image for speed...\n",
            "WARNING ⚠️ Limiting validation plots to first 50 items per image for speed...\n",
            "WARNING ⚠️ Limiting validation plots to first 50 items per image for speed...\n",
            "WARNING ⚠️ Limiting validation plots to first 50 items per image for speed...\n",
            "WARNING ⚠️ Limiting validation plots to first 50 items per image for speed...\n",
            "WARNING ⚠️ Limiting validation plots to first 50 items per image for speed...\n",
            "WARNING ⚠️ Limiting validation plots to first 50 items per image for speed...\n",
            "WARNING ⚠️ Limiting validation plots to first 50 items per image for speed...\n",
            "WARNING ⚠️ Limiting validation plots to first 50 items per image for speed...\n",
            "WARNING ⚠️ Limiting validation plots to first 50 items per image for speed...\n",
            "WARNING ⚠️ Limiting validation plots to first 50 items per image for speed...\n",
            "WARNING ⚠️ Limiting validation plots to first 50 items per image for speed...\n",
            "WARNING ⚠️ Limiting validation plots to first 50 items per image for speed...\n",
            "WARNING ⚠️ Limiting validation plots to first 50 items per image for speed...\n",
            "                 Class     Images  Instances      Box(P          R      mAP50  mAP50-95)     Mask(P          R      mAP50  mAP50-95): 100% 4/4 [00:04<00:00,  1.17s/it]\n",
            "                   all        128        929      0.738      0.565      0.661      0.504      0.723      0.553      0.628      0.407\n",
            "                person         61        254       0.82      0.701      0.783      0.557      0.793      0.678      0.743      0.406\n",
            "               bicycle          3          6      0.539      0.333      0.462      0.312      0.539      0.333      0.427      0.242\n",
            "                   car         12         46      0.705      0.152      0.222      0.141      0.705      0.152      0.202     0.0931\n",
            "            motorcycle          4          5      0.993          1      0.995      0.837      0.993          1      0.995      0.558\n",
            "              airplane          5          6      0.865      0.833      0.972      0.807      0.865      0.833      0.972      0.646\n",
            "                   bus          5          7       0.67      0.714      0.726      0.607      0.536      0.571      0.625       0.54\n",
            "                 train          3          3      0.601          1      0.995       0.83      0.601          1      0.995      0.797\n",
            "                 truck          5         12      0.799      0.332      0.486      0.286      0.598      0.248      0.361      0.234\n",
            "                  boat          2          6      0.529      0.333      0.427      0.373      0.529      0.333      0.346      0.253\n",
            "         traffic light          4         14       0.64      0.143      0.222      0.156       0.64      0.143       0.18       0.15\n",
            "             stop sign          2          2      0.848          1      0.995      0.822      0.848          1      0.995      0.895\n",
            "                 bench          5          9      0.835      0.333      0.471      0.273      0.835      0.333      0.453      0.141\n",
            "                  bird          2         16          1      0.879      0.977      0.626          1      0.879      0.965      0.441\n",
            "                   cat          4          4      0.689          1      0.995       0.92      0.689          1      0.995      0.821\n",
            "                   dog          9          9      0.703      0.788       0.94        0.8      0.703      0.788       0.94      0.669\n",
            "                 horse          1          2      0.632          1      0.995      0.672      0.632          1      0.995      0.249\n",
            "              elephant          4         17      0.967      0.941      0.947      0.682      0.907      0.882      0.888      0.595\n",
            "                  bear          1          1      0.627          1      0.995      0.895      0.627          1      0.995      0.995\n",
            "                 zebra          2          4      0.857          1      0.995      0.971      0.857          1      0.995      0.859\n",
            "               giraffe          4          9       0.89          1      0.995      0.718      0.692      0.778      0.767      0.437\n",
            "              backpack          4          6      0.911      0.333      0.401      0.256      0.911      0.333      0.372       0.18\n",
            "              umbrella          4         18      0.767      0.444      0.672      0.395      0.712      0.414      0.449      0.245\n",
            "               handbag          9         19      0.246     0.0259      0.175      0.102      0.246     0.0259      0.199     0.0968\n",
            "                   tie          6          7      0.775      0.429        0.6      0.442      0.775      0.429        0.6      0.382\n",
            "              suitcase          2          4          1       0.97      0.995      0.654          1       0.97      0.995      0.562\n",
            "               frisbee          5          5      0.718        0.8      0.722      0.611      0.718        0.8      0.722      0.548\n",
            "                  skis          1          1      0.673          1      0.995      0.597      0.673          1      0.995     0.0995\n",
            "             snowboard          2          7       0.68      0.714      0.727      0.511      0.544      0.571      0.523      0.221\n",
            "           sports ball          6          6      0.923      0.667      0.669      0.374      0.692        0.5      0.432      0.344\n",
            "                  kite          2         10       0.79        0.4      0.447      0.168      0.592        0.3      0.349      0.174\n",
            "          baseball bat          4          4          1          0      0.176     0.0996          1          0      0.282     0.0889\n",
            "        baseball glove          4          7          1      0.424       0.43      0.233          1      0.424       0.43      0.247\n",
            "            skateboard          3          5      0.705        0.4      0.542      0.395      0.705        0.4      0.592      0.317\n",
            "         tennis racket          5          7      0.454      0.429      0.517      0.327      0.605      0.571      0.612      0.354\n",
            "                bottle          6         18      0.695      0.278      0.476      0.308      0.695      0.278      0.441      0.307\n",
            "            wine glass          5         16      0.646      0.457      0.679       0.38       0.62      0.438      0.452       0.22\n",
            "                   cup         10         36      0.678      0.278       0.43      0.301      0.678      0.278      0.428      0.286\n",
            "                  fork          6          6      0.507      0.167      0.298       0.23      0.507      0.167      0.206      0.112\n",
            "                 knife          7         16      0.641      0.438      0.606        0.4      0.641      0.438      0.488      0.297\n",
            "                 spoon          5         22          1      0.178      0.335      0.257          1      0.178      0.363      0.188\n",
            "                  bowl          9         28      0.755      0.679       0.68       0.56      0.715      0.643      0.612       0.38\n",
            "                banana          1          1      0.846          1      0.995      0.895      0.846          1      0.995      0.697\n",
            "              sandwich          2          2          1          0      0.695      0.695          1          0      0.695       0.34\n",
            "                orange          1          4          1          0      0.648      0.462          1          0      0.648      0.353\n",
            "              broccoli          4         11      0.527      0.182      0.246      0.214      0.527      0.182      0.264      0.195\n",
            "                carrot          3         24      0.716      0.525      0.589      0.416      0.772      0.566      0.696      0.413\n",
            "               hot dog          1          2      0.563          1      0.663      0.663      0.563          1      0.663      0.581\n",
            "                 pizza          5          5      0.542          1       0.92      0.825      0.542          1      0.906      0.754\n",
            "                 donut          2         14      0.758      0.929      0.927      0.836      0.758      0.929      0.927      0.769\n",
            "                  cake          4          4      0.662          1      0.995      0.883      0.662          1      0.995      0.784\n",
            "                 chair          9         35      0.603      0.434      0.581      0.334      0.643      0.462      0.577       0.29\n",
            "                 couch          5          6      0.957      0.833      0.942      0.706      0.957      0.833      0.837      0.506\n",
            "          potted plant          9         14       0.93      0.643      0.848      0.631       0.93      0.643      0.848      0.444\n",
            "                   bed          3          3      0.783      0.667      0.913      0.656      0.783      0.667      0.913      0.428\n",
            "          dining table         10         13      0.591      0.615      0.627      0.464      0.336      0.351      0.265     0.0865\n",
            "                toilet          2          2      0.638        0.5      0.557      0.535      0.638        0.5      0.557       0.54\n",
            "                    tv          2          2      0.529          1      0.995      0.895      0.529          1      0.995      0.895\n",
            "                laptop          2          3      0.666      0.333      0.631      0.547      0.666      0.333       0.39      0.253\n",
            "                 mouse          2          2          1          0          0          0          1          0          0          0\n",
            "                remote          5          8      0.852        0.5      0.546       0.48      0.852        0.5       0.55      0.423\n",
            "            cell phone          5          8          1          0      0.209       0.16          1          0      0.202      0.155\n",
            "             microwave          3          3       0.63      0.667      0.863      0.685       0.63      0.667      0.863      0.719\n",
            "                  oven          5          5      0.426        0.4      0.356      0.298      0.639        0.6       0.63      0.443\n",
            "                  sink          4          6      0.242      0.167      0.306      0.227      0.242      0.167      0.304      0.198\n",
            "          refrigerator          5          5      0.739        0.8      0.906      0.688      0.739        0.8      0.906      0.635\n",
            "                  book          6         29      0.506      0.142      0.387      0.183      0.506      0.142      0.263      0.106\n",
            "                 clock          8          9      0.915      0.889      0.905      0.749      0.915      0.889      0.905      0.733\n",
            "                  vase          2          2      0.255          1      0.745       0.72      0.255          1      0.745      0.608\n",
            "              scissors          1          1          1          0          0          0          1          0          0          0\n",
            "            teddy bear          6         21      0.769      0.477      0.741      0.485      0.768      0.476      0.672      0.399\n",
            "            toothbrush          2          5          1      0.425      0.995      0.582          1      0.425      0.995      0.487\n",
            "Speed: 0.2ms preprocess, 4.9ms inference, 0.0ms loss, 4.4ms postprocess per image\n",
            "Results saved to \u001b[1mruns/segment/train\u001b[0m\n",
            "💡 Learn more at https://docs.ultralytics.com/modes/train\n",
            "\n",
            "Dataset information:\n",
            "====================\n",
            "Number of classes: 80 (COCO dataset)\n",
            "Number of images: 128\n",
            "Annotations include both bounding boxes and segmentation masks\n"
          ]
        }
      ]
    },
    {
      "cell_type": "markdown",
      "source": [
        "## Train Your YOLO Segmentation Model"
      ],
      "metadata": {
        "id": "VK6mOliX1l0Q"
      }
    },
    {
      "cell_type": "code",
      "source": [
        "# Train the model\n",
        "print(\"Starting training...\")\n",
        "results = model.train(\n",
        "    data='coco128-seg.yaml',  # Dataset\n",
        "    epochs=10,                # Number of training epochs\n",
        "    imgsz=640,                # Image size\n",
        "    batch=8,                  # Batch size (smaller than detection due to higher memory usage)\n",
        "    patience=3,               # Early stopping patience\n",
        "    verbose=True              # Print detailed information\n",
        ")\n",
        "\n",
        "print(\"Training complete!\")\n",
        ""
      ],
      "metadata": {
        "colab": {
          "base_uri": "https://localhost:8080/"
        },
        "id": "Sh2LfruP1mmn",
        "outputId": "3aecc387-1028-4103-e3c0-713df22a8c92"
      },
      "execution_count": 5,
      "outputs": [
        {
          "output_type": "stream",
          "name": "stdout",
          "text": [
            "Starting training...\n",
            "Ultralytics 8.3.153 🚀 Python-3.11.11 torch-2.5.1+cu124 CUDA:0 (Tesla T4, 15095MiB)\n",
            "\u001b[34m\u001b[1mengine/trainer: \u001b[0magnostic_nms=False, amp=True, augment=False, auto_augment=randaugment, batch=8, bgr=0.0, box=7.5, cache=False, cfg=None, classes=None, close_mosaic=10, cls=0.5, conf=None, copy_paste=0.0, copy_paste_mode=flip, cos_lr=False, cutmix=0.0, data=coco128-seg.yaml, degrees=0.0, deterministic=True, device=None, dfl=1.5, dnn=False, dropout=0.0, dynamic=False, embed=None, epochs=10, erasing=0.4, exist_ok=False, fliplr=0.5, flipud=0.0, format=torchscript, fraction=1.0, freeze=None, half=False, hsv_h=0.015, hsv_s=0.7, hsv_v=0.4, imgsz=640, int8=False, iou=0.7, keras=False, kobj=1.0, line_width=None, lr0=0.01, lrf=0.01, mask_ratio=4, max_det=300, mixup=0.0, mode=train, model=yolov8n-seg.pt, momentum=0.937, mosaic=1.0, multi_scale=False, name=train2, nbs=64, nms=False, opset=None, optimize=False, optimizer=auto, overlap_mask=True, patience=3, perspective=0.0, plots=True, pose=12.0, pretrained=True, profile=False, project=None, rect=False, resume=False, retina_masks=False, save=True, save_conf=False, save_crop=False, save_dir=runs/segment/train2, save_frames=False, save_json=False, save_period=-1, save_txt=False, scale=0.5, seed=0, shear=0.0, show=False, show_boxes=True, show_conf=True, show_labels=True, simplify=True, single_cls=False, source=None, split=val, stream_buffer=False, task=segment, time=None, tracker=botsort.yaml, translate=0.1, val=True, verbose=True, vid_stride=1, visualize=False, warmup_bias_lr=0.1, warmup_epochs=3.0, warmup_momentum=0.8, weight_decay=0.0005, workers=8, workspace=None\n",
            "\n",
            "                   from  n    params  module                                       arguments                     \n",
            "  0                  -1  1       464  ultralytics.nn.modules.conv.Conv             [3, 16, 3, 2]                 \n",
            "  1                  -1  1      4672  ultralytics.nn.modules.conv.Conv             [16, 32, 3, 2]                \n",
            "  2                  -1  1      7360  ultralytics.nn.modules.block.C2f             [32, 32, 1, True]             \n",
            "  3                  -1  1     18560  ultralytics.nn.modules.conv.Conv             [32, 64, 3, 2]                \n",
            "  4                  -1  2     49664  ultralytics.nn.modules.block.C2f             [64, 64, 2, True]             \n",
            "  5                  -1  1     73984  ultralytics.nn.modules.conv.Conv             [64, 128, 3, 2]               \n",
            "  6                  -1  2    197632  ultralytics.nn.modules.block.C2f             [128, 128, 2, True]           \n",
            "  7                  -1  1    295424  ultralytics.nn.modules.conv.Conv             [128, 256, 3, 2]              \n",
            "  8                  -1  1    460288  ultralytics.nn.modules.block.C2f             [256, 256, 1, True]           \n",
            "  9                  -1  1    164608  ultralytics.nn.modules.block.SPPF            [256, 256, 5]                 \n",
            " 10                  -1  1         0  torch.nn.modules.upsampling.Upsample         [None, 2, 'nearest']          \n",
            " 11             [-1, 6]  1         0  ultralytics.nn.modules.conv.Concat           [1]                           \n",
            " 12                  -1  1    148224  ultralytics.nn.modules.block.C2f             [384, 128, 1]                 \n",
            " 13                  -1  1         0  torch.nn.modules.upsampling.Upsample         [None, 2, 'nearest']          \n",
            " 14             [-1, 4]  1         0  ultralytics.nn.modules.conv.Concat           [1]                           \n",
            " 15                  -1  1     37248  ultralytics.nn.modules.block.C2f             [192, 64, 1]                  \n",
            " 16                  -1  1     36992  ultralytics.nn.modules.conv.Conv             [64, 64, 3, 2]                \n",
            " 17            [-1, 12]  1         0  ultralytics.nn.modules.conv.Concat           [1]                           \n",
            " 18                  -1  1    123648  ultralytics.nn.modules.block.C2f             [192, 128, 1]                 \n",
            " 19                  -1  1    147712  ultralytics.nn.modules.conv.Conv             [128, 128, 3, 2]              \n",
            " 20             [-1, 9]  1         0  ultralytics.nn.modules.conv.Concat           [1]                           \n",
            " 21                  -1  1    493056  ultralytics.nn.modules.block.C2f             [384, 256, 1]                 \n",
            " 22        [15, 18, 21]  1   1150432  ultralytics.nn.modules.head.Segment          [80, 32, 64, [64, 128, 256]]  \n",
            "YOLOv8n-seg summary: 151 layers, 3,409,968 parameters, 3,409,952 gradients, 12.8 GFLOPs\n",
            "\n",
            "Transferred 417/417 items from pretrained weights\n",
            "Freezing layer 'model.22.dfl.conv.weight'\n",
            "\u001b[34m\u001b[1mAMP: \u001b[0mrunning Automatic Mixed Precision (AMP) checks...\n",
            "\u001b[34m\u001b[1mAMP: \u001b[0mchecks passed ✅\n",
            "\u001b[34m\u001b[1mtrain: \u001b[0mFast image access ✅ (ping: 0.0±0.0 ms, read: 801.7±434.0 MB/s, size: 50.9 KB)\n"
          ]
        },
        {
          "output_type": "stream",
          "name": "stderr",
          "text": [
            "\u001b[34m\u001b[1mtrain: \u001b[0mScanning /content/datasets/coco128-seg/labels/train2017.cache... 126 images, 2 backgrounds, 0 corrupt: 100%|██████████| 128/128 [00:00<?, ?it/s]\n"
          ]
        },
        {
          "output_type": "stream",
          "name": "stdout",
          "text": [
            "\u001b[34m\u001b[1malbumentations: \u001b[0mBlur(p=0.01, blur_limit=(3, 7)), MedianBlur(p=0.01, blur_limit=(3, 7)), ToGray(p=0.01, num_output_channels=3, method='weighted_average'), CLAHE(p=0.01, clip_limit=(1.0, 4.0), tile_grid_size=(8, 8))\n",
            "\u001b[34m\u001b[1mval: \u001b[0mFast image access ✅ (ping: 0.0±0.0 ms, read: 842.6±439.3 MB/s, size: 52.5 KB)\n"
          ]
        },
        {
          "output_type": "stream",
          "name": "stderr",
          "text": [
            "\u001b[34m\u001b[1mval: \u001b[0mScanning /content/datasets/coco128-seg/labels/train2017.cache... 126 images, 2 backgrounds, 0 corrupt: 100%|██████████| 128/128 [00:00<?, ?it/s]\n"
          ]
        },
        {
          "output_type": "stream",
          "name": "stdout",
          "text": [
            "Plotting labels to runs/segment/train2/labels.jpg... \n",
            "\u001b[34m\u001b[1moptimizer:\u001b[0m 'optimizer=auto' found, ignoring 'lr0=0.01' and 'momentum=0.937' and determining best 'optimizer', 'lr0' and 'momentum' automatically... \n",
            "\u001b[34m\u001b[1moptimizer:\u001b[0m AdamW(lr=0.000119, momentum=0.9) with parameter groups 66 weight(decay=0.0), 77 weight(decay=0.0005), 76 bias(decay=0.0)\n",
            "Image sizes 640 train, 640 val\n",
            "Using 2 dataloader workers\n",
            "Logging results to \u001b[1mruns/segment/train2\u001b[0m\n",
            "Starting training for 10 epochs...\n",
            "Closing dataloader mosaic\n",
            "\u001b[34m\u001b[1malbumentations: \u001b[0mBlur(p=0.01, blur_limit=(3, 7)), MedianBlur(p=0.01, blur_limit=(3, 7)), ToGray(p=0.01, num_output_channels=3, method='weighted_average'), CLAHE(p=0.01, clip_limit=(1.0, 4.0), tile_grid_size=(8, 8))\n",
            "\n",
            "      Epoch    GPU_mem   box_loss   seg_loss   cls_loss   dfl_loss  Instances       Size\n"
          ]
        },
        {
          "output_type": "stream",
          "name": "stderr",
          "text": [
            "       1/10      1.63G      1.322      3.008      2.016      1.258         44        640: 100%|██████████| 16/16 [00:05<00:00,  2.84it/s]\n",
            "                 Class     Images  Instances      Box(P          R      mAP50  mAP50-95)     Mask(P          R      mAP50  mAP50-95): 100%|██████████| 8/8 [00:02<00:00,  3.44it/s]"
          ]
        },
        {
          "output_type": "stream",
          "name": "stdout",
          "text": [
            "                   all        128        929      0.572      0.558      0.598      0.439      0.573      0.478      0.547      0.363\n"
          ]
        },
        {
          "output_type": "stream",
          "name": "stderr",
          "text": [
            "\n"
          ]
        },
        {
          "output_type": "stream",
          "name": "stdout",
          "text": [
            "\n",
            "      Epoch    GPU_mem   box_loss   seg_loss   cls_loss   dfl_loss  Instances       Size\n"
          ]
        },
        {
          "output_type": "stream",
          "name": "stderr",
          "text": [
            "       2/10      2.11G      1.312      2.855      1.754       1.29         42        640: 100%|██████████| 16/16 [00:04<00:00,  3.94it/s]\n",
            "                 Class     Images  Instances      Box(P          R      mAP50  mAP50-95)     Mask(P          R      mAP50  mAP50-95): 100%|██████████| 8/8 [00:01<00:00,  4.52it/s]"
          ]
        },
        {
          "output_type": "stream",
          "name": "stdout",
          "text": [
            "                   all        128        929      0.627      0.522      0.594      0.436       0.56      0.483      0.534      0.351\n"
          ]
        },
        {
          "output_type": "stream",
          "name": "stderr",
          "text": [
            "\n"
          ]
        },
        {
          "output_type": "stream",
          "name": "stdout",
          "text": [
            "\n",
            "      Epoch    GPU_mem   box_loss   seg_loss   cls_loss   dfl_loss  Instances       Size\n"
          ]
        },
        {
          "output_type": "stream",
          "name": "stderr",
          "text": [
            "       3/10      2.11G      1.237      2.729      1.639      1.227         62        640: 100%|██████████| 16/16 [00:03<00:00,  5.04it/s]\n",
            "                 Class     Images  Instances      Box(P          R      mAP50  mAP50-95)     Mask(P          R      mAP50  mAP50-95): 100%|██████████| 8/8 [00:01<00:00,  4.68it/s]"
          ]
        },
        {
          "output_type": "stream",
          "name": "stdout",
          "text": [
            "                   all        128        929      0.584      0.546      0.601       0.43      0.536      0.512      0.531      0.348\n"
          ]
        },
        {
          "output_type": "stream",
          "name": "stderr",
          "text": [
            "\n"
          ]
        },
        {
          "output_type": "stream",
          "name": "stdout",
          "text": [
            "\n",
            "      Epoch    GPU_mem   box_loss   seg_loss   cls_loss   dfl_loss  Instances       Size\n"
          ]
        },
        {
          "output_type": "stream",
          "name": "stderr",
          "text": [
            "       4/10      2.11G      1.243      2.711      1.701      1.262         52        640: 100%|██████████| 16/16 [00:04<00:00,  3.55it/s]\n",
            "                 Class     Images  Instances      Box(P          R      mAP50  mAP50-95)     Mask(P          R      mAP50  mAP50-95): 100%|██████████| 8/8 [00:01<00:00,  4.53it/s]"
          ]
        },
        {
          "output_type": "stream",
          "name": "stdout",
          "text": [
            "                   all        128        929      0.594      0.593      0.609      0.435      0.554      0.518       0.54      0.351\n",
            "\u001b[34m\u001b[1mEarlyStopping: \u001b[0mTraining stopped early as no improvement observed in last 3 epochs. Best results observed at epoch 1, best model saved as best.pt.\n",
            "To update EarlyStopping(patience=3) pass a new patience value, i.e. `patience=300` or use `patience=0` to disable EarlyStopping.\n"
          ]
        },
        {
          "output_type": "stream",
          "name": "stderr",
          "text": [
            "\n"
          ]
        },
        {
          "output_type": "stream",
          "name": "stdout",
          "text": [
            "\n",
            "4 epochs completed in 0.008 hours.\n",
            "Optimizer stripped from runs/segment/train2/weights/last.pt, 7.1MB\n",
            "Optimizer stripped from runs/segment/train2/weights/best.pt, 7.1MB\n",
            "\n",
            "Validating runs/segment/train2/weights/best.pt...\n",
            "Ultralytics 8.3.153 🚀 Python-3.11.11 torch-2.5.1+cu124 CUDA:0 (Tesla T4, 15095MiB)\n",
            "YOLOv8n-seg summary (fused): 85 layers, 3,404,320 parameters, 0 gradients, 12.6 GFLOPs\n"
          ]
        },
        {
          "output_type": "stream",
          "name": "stderr",
          "text": [
            "\r                 Class     Images  Instances      Box(P          R      mAP50  mAP50-95)     Mask(P          R      mAP50  mAP50-95):   0%|          | 0/8 [00:00<?, ?it/s]"
          ]
        },
        {
          "output_type": "stream",
          "name": "stdout",
          "text": [
            "WARNING ⚠️ Limiting validation plots to first 50 items per image for speed...\n",
            "WARNING ⚠️ Limiting validation plots to first 50 items per image for speed...\n",
            "WARNING ⚠️ Limiting validation plots to first 50 items per image for speed...\n",
            "WARNING ⚠️ Limiting validation plots to first 50 items per image for speed...\n",
            "WARNING ⚠️ Limiting validation plots to first 50 items per image for speed...\n",
            "WARNING ⚠️ Limiting validation plots to first 50 items per image for speed...\n",
            "WARNING ⚠️ Limiting validation plots to first 50 items per image for speed...\n",
            "WARNING ⚠️ Limiting validation plots to first 50 items per image for speed...\n",
            "WARNING ⚠️ Limiting validation plots to first 50 items per image for speed...\n",
            "WARNING ⚠️ Limiting validation plots to first 50 items per image for speed...\n",
            "WARNING ⚠️ Limiting validation plots to first 50 items per image for speed...\n",
            "WARNING ⚠️ Limiting validation plots to first 50 items per image for speed...\n"
          ]
        },
        {
          "output_type": "stream",
          "name": "stderr",
          "text": [
            "\r                 Class     Images  Instances      Box(P          R      mAP50  mAP50-95)     Mask(P          R      mAP50  mAP50-95):  12%|█▎        | 1/8 [00:00<00:01,  4.16it/s]"
          ]
        },
        {
          "output_type": "stream",
          "name": "stdout",
          "text": [
            "WARNING ⚠️ Limiting validation plots to first 50 items per image for speed...\n",
            "WARNING ⚠️ Limiting validation plots to first 50 items per image for speed...\n",
            "WARNING ⚠️ Limiting validation plots to first 50 items per image for speed...\n",
            "WARNING ⚠️ Limiting validation plots to first 50 items per image for speed...\n",
            "WARNING ⚠️ Limiting validation plots to first 50 items per image for speed...\n",
            "WARNING ⚠️ Limiting validation plots to first 50 items per image for speed...\n",
            "WARNING ⚠️ Limiting validation plots to first 50 items per image for speed...\n",
            "WARNING ⚠️ Limiting validation plots to first 50 items per image for speed...\n",
            "WARNING ⚠️ Limiting validation plots to first 50 items per image for speed...\n",
            "WARNING ⚠️ Limiting validation plots to first 50 items per image for speed...\n",
            "WARNING ⚠️ Limiting validation plots to first 50 items per image for speed...\n",
            "WARNING ⚠️ Limiting validation plots to first 50 items per image for speed...\n",
            "WARNING ⚠️ Limiting validation plots to first 50 items per image for speed...\n",
            "WARNING ⚠️ Limiting validation plots to first 50 items per image for speed...\n",
            "WARNING ⚠️ Limiting validation plots to first 50 items per image for speed...\n"
          ]
        },
        {
          "output_type": "stream",
          "name": "stderr",
          "text": [
            "\r                 Class     Images  Instances      Box(P          R      mAP50  mAP50-95)     Mask(P          R      mAP50  mAP50-95):  25%|██▌       | 2/8 [00:00<00:02,  2.51it/s]"
          ]
        },
        {
          "output_type": "stream",
          "name": "stdout",
          "text": [
            "WARNING ⚠️ Limiting validation plots to first 50 items per image for speed...\n",
            "WARNING ⚠️ Limiting validation plots to first 50 items per image for speed...\n",
            "WARNING ⚠️ Limiting validation plots to first 50 items per image for speed...\n",
            "WARNING ⚠️ Limiting validation plots to first 50 items per image for speed...\n",
            "WARNING ⚠️ Limiting validation plots to first 50 items per image for speed...\n",
            "WARNING ⚠️ Limiting validation plots to first 50 items per image for speed...\n",
            "WARNING ⚠️ Limiting validation plots to first 50 items per image for speed...\n",
            "WARNING ⚠️ Limiting validation plots to first 50 items per image for speed...\n",
            "WARNING ⚠️ Limiting validation plots to first 50 items per image for speed...\n",
            "WARNING ⚠️ Limiting validation plots to first 50 items per image for speed...\n",
            "WARNING ⚠️ Limiting validation plots to first 50 items per image for speed...\n",
            "WARNING ⚠️ Limiting validation plots to first 50 items per image for speed...\n",
            "WARNING ⚠️ Limiting validation plots to first 50 items per image for speed...\n"
          ]
        },
        {
          "output_type": "stream",
          "name": "stderr",
          "text": [
            "                 Class     Images  Instances      Box(P          R      mAP50  mAP50-95)     Mask(P          R      mAP50  mAP50-95): 100%|██████████| 8/8 [00:04<00:00,  1.76it/s]\n"
          ]
        },
        {
          "output_type": "stream",
          "name": "stdout",
          "text": [
            "                   all        128        929      0.572      0.558      0.598      0.435      0.573      0.478      0.544      0.361\n",
            "                person         61        254      0.781      0.681      0.769      0.538      0.805      0.626      0.729      0.395\n",
            "               bicycle          3          6      0.387      0.333      0.364       0.23      0.302      0.167      0.349      0.202\n",
            "                   car         12         46      0.525      0.196      0.246      0.142      0.563      0.169      0.187     0.0929\n",
            "            motorcycle          4          5      0.748          1      0.928      0.735      0.829      0.975      0.928      0.485\n",
            "              airplane          5          6      0.746      0.981      0.913      0.653      0.606      0.776      0.727      0.534\n",
            "                   bus          5          7      0.459      0.714       0.72      0.571      0.505      0.714       0.72      0.574\n",
            "                 train          3          3      0.572      0.907      0.863      0.662      0.556      0.853      0.863      0.658\n",
            "                 truck          5         12      0.524      0.167      0.436      0.271        0.6      0.167      0.396      0.218\n",
            "                  boat          2          6      0.545        0.5      0.481      0.296        0.4      0.333      0.357      0.121\n",
            "         traffic light          4         14      0.797      0.214      0.237      0.149       0.57      0.143       0.17      0.157\n",
            "             stop sign          2          2      0.568        0.5      0.828       0.63      0.596        0.5      0.828      0.713\n",
            "                 bench          5          9       0.58      0.311      0.489      0.178      0.218      0.111      0.226      0.081\n",
            "                  bird          2         16      0.828      0.812      0.927      0.625      0.846      0.812      0.927      0.449\n",
            "                   cat          4          4      0.696          1      0.995      0.778      0.708          1      0.995      0.821\n",
            "                   dog          9          9        0.7      0.777      0.841      0.633      0.674      0.693      0.775      0.505\n",
            "                 horse          1          2      0.413          1      0.995      0.399      0.216        0.5      0.249     0.0998\n",
            "              elephant          4         17      0.895      0.824      0.884      0.694      0.909      0.824      0.875      0.554\n",
            "                  bear          1          1      0.616          1      0.995      0.995      0.643          1      0.995      0.995\n",
            "                 zebra          2          4      0.807          1      0.995      0.971      0.821          1      0.995      0.852\n",
            "               giraffe          4          9      0.779          1      0.984      0.713      0.672      0.686      0.803      0.469\n",
            "              backpack          4          6      0.548      0.414       0.41       0.27      0.513      0.356      0.365      0.253\n",
            "              umbrella          4         18      0.606      0.667      0.751      0.497        0.5      0.444      0.433      0.238\n",
            "               handbag          9         19      0.714      0.105      0.227       0.16      0.812      0.105      0.243      0.146\n",
            "                   tie          6          7       0.61      0.429      0.613       0.44      0.669      0.429      0.601      0.384\n",
            "              suitcase          2          4      0.759       0.75       0.87      0.708      0.938       0.75       0.87      0.647\n",
            "               frisbee          5          5      0.533      0.693      0.663      0.599      0.615        0.6      0.663      0.466\n",
            "                  skis          1          1      0.478          1      0.995      0.497      0.623          1      0.995     0.0995\n",
            "             snowboard          2          7      0.589      0.714      0.735      0.591      0.617      0.571      0.496       0.23\n",
            "           sports ball          6          6      0.711      0.421      0.439      0.302      0.367        0.2      0.276      0.209\n",
            "                  kite          2         10      0.553        0.3      0.431      0.194      0.612        0.3      0.418      0.191\n",
            "          baseball bat          4          4      0.329       0.25      0.254     0.0665      0.412       0.25      0.242       0.13\n",
            "        baseball glove          4          7       0.66      0.429      0.429      0.254      0.808      0.429      0.429      0.296\n",
            "            skateboard          3          5        0.6        0.2      0.345      0.186      0.668        0.2      0.348      0.203\n",
            "         tennis racket          5          7      0.461      0.429      0.359       0.23      0.495      0.429      0.391      0.228\n",
            "                bottle          6         18      0.459      0.425      0.387      0.183      0.419      0.333      0.361       0.19\n",
            "            wine glass          5         16      0.598      0.688      0.688      0.351      0.422      0.375      0.395      0.237\n",
            "                   cup         10         36      0.612      0.306      0.355      0.266      0.694      0.306      0.356      0.248\n",
            "                  fork          6          6      0.299      0.167      0.238      0.186      0.355      0.167      0.238      0.108\n",
            "                 knife          7         16      0.672      0.438       0.57      0.422      0.804      0.438      0.489      0.343\n",
            "                 spoon          5         22      0.459      0.273      0.418       0.27      0.485      0.273       0.41      0.198\n",
            "                  bowl          9         28      0.738      0.602      0.672      0.528      0.714      0.536       0.62      0.339\n",
            "                banana          1          1      0.137          1      0.142     0.0846          0          0      0.142     0.0624\n",
            "              sandwich          2          2      0.384          1      0.745      0.646      0.235        0.5      0.578      0.546\n",
            "                orange          1          4          1          0      0.532      0.343          1          0      0.532      0.344\n",
            "              broccoli          4         11      0.291      0.182      0.256      0.213      0.334      0.182      0.276      0.224\n",
            "                carrot          3         24      0.445      0.335      0.506      0.366      0.568      0.292      0.516      0.305\n",
            "               hot dog          1          2      0.256        0.5      0.695      0.695      0.279        0.5      0.695      0.606\n",
            "                 pizza          5          5       0.48          1      0.928      0.734      0.491          1      0.853      0.697\n",
            "                 donut          2         14      0.697          1      0.955      0.864      0.764      0.929      0.955      0.781\n",
            "                  cake          4          4      0.619          1      0.995      0.867      0.654          1      0.995      0.833\n",
            "                 chair          9         35      0.339      0.486      0.368      0.193      0.382      0.514      0.347      0.171\n",
            "                 couch          5          6      0.464      0.667      0.628      0.529      0.371        0.5      0.528      0.264\n",
            "          potted plant          9         14      0.611      0.451      0.582      0.395      0.586      0.357      0.505      0.263\n",
            "                   bed          3          3          1      0.502      0.995      0.393          1          0      0.995      0.392\n",
            "          dining table         10         13       0.35      0.538      0.505       0.38      0.114      0.154      0.131     0.0728\n",
            "                toilet          2          2      0.501        0.5      0.538      0.531      0.534        0.5      0.538      0.523\n",
            "                    tv          2          2       0.42          1      0.995      0.846      0.454          1      0.995      0.895\n",
            "                laptop          2          3          1          0      0.446      0.391          1          0      0.453      0.251\n",
            "                 mouse          2          2          0          0     0.0668    0.00668          0          0          0          0\n",
            "                remote          5          8          1      0.592      0.641      0.485          1      0.574      0.658      0.452\n",
            "            cell phone          5          8      0.557       0.25      0.193      0.109      0.653       0.25      0.177     0.0931\n",
            "             microwave          3          3      0.471          1      0.863      0.791      0.522          1      0.863      0.666\n",
            "                  oven          5          5      0.291        0.4      0.331      0.264      0.577        0.6      0.597      0.417\n",
            "                  sink          4          6      0.262      0.167      0.262        0.2      0.284      0.167      0.229      0.181\n",
            "          refrigerator          5          5      0.678        0.8      0.773      0.553      0.728        0.8      0.773      0.539\n",
            "                  book          6         29      0.475      0.126      0.318      0.145      0.415     0.0985      0.246      0.101\n",
            "                 clock          8          9      0.661      0.778      0.818      0.676      0.799      0.778      0.818      0.682\n",
            "                  vase          2          2      0.257          1      0.663      0.597      0.277          1      0.663      0.531\n",
            "              scissors          1          1          1          0          0          0          1          0          0          0\n",
            "            teddy bear          6         21      0.685      0.333      0.478      0.309      0.694      0.286      0.441      0.238\n",
            "            toothbrush          2          5      0.334        0.4      0.521      0.253      0.368        0.4       0.39      0.161\n",
            "Speed: 0.4ms preprocess, 4.6ms inference, 0.0ms loss, 6.0ms postprocess per image\n",
            "Results saved to \u001b[1mruns/segment/train2\u001b[0m\n",
            "Training complete!\n"
          ]
        }
      ]
    },
    {
      "cell_type": "markdown",
      "source": [
        "## Evaluate Your Segmentation Model's Performance"
      ],
      "metadata": {
        "id": "7Zdx04In1rSu"
      }
    },
    {
      "cell_type": "code",
      "source": [
        "# Validate the model on the validation set\n",
        "val_results = model.val()\n",
        "\n",
        "# Print the validation results\n",
        "print(\"\\nValidation Results:\")\n",
        "print(\"==================\")\n",
        "print(f\"Box mAP@0.5 (detection metric): {val_results.box.map50:.4f}\")\n",
        "print(f\"Mask mAP@0.5 (segmentation metric): {val_results.seg.map50:.4f}\")\n",
        "print(f\"Mask mAP@0.5:0.95 (COCO metric): {val_results.seg.map:.4f}\")\n",
        "print(f\"Mask precision: {val_results.seg.mp:.4f}\")\n",
        "print(f\"Mask recall: {val_results.seg.mr:.4f}\")"
      ],
      "metadata": {
        "colab": {
          "base_uri": "https://localhost:8080/"
        },
        "id": "5lfoBIIA1sWX",
        "outputId": "8a4ebd60-d207-48e7-c0c9-64229b45b93a"
      },
      "execution_count": 6,
      "outputs": [
        {
          "output_type": "stream",
          "name": "stdout",
          "text": [
            "Ultralytics 8.3.153 🚀 Python-3.11.11 torch-2.5.1+cu124 CUDA:0 (Tesla T4, 15095MiB)\n",
            "YOLOv8n-seg summary (fused): 85 layers, 3,404,320 parameters, 0 gradients, 12.6 GFLOPs\n",
            "\u001b[34m\u001b[1mval: \u001b[0mFast image access ✅ (ping: 0.0±0.0 ms, read: 1508.0±578.8 MB/s, size: 53.4 KB)\n"
          ]
        },
        {
          "output_type": "stream",
          "name": "stderr",
          "text": [
            "\u001b[34m\u001b[1mval: \u001b[0mScanning /content/datasets/coco128-seg/labels/train2017.cache... 126 images, 2 backgrounds, 0 corrupt: 100%|██████████| 128/128 [00:00<?, ?it/s]\n",
            "                 Class     Images  Instances      Box(P          R      mAP50  mAP50-95)     Mask(P          R      mAP50  mAP50-95):   0%|          | 0/16 [00:00<?, ?it/s]"
          ]
        },
        {
          "output_type": "stream",
          "name": "stdout",
          "text": [
            "WARNING ⚠️ Limiting validation plots to first 50 items per image for speed...\n",
            "WARNING ⚠️ Limiting validation plots to first 50 items per image for speed...\n",
            "WARNING ⚠️ Limiting validation plots to first 50 items per image for speed...\n",
            "WARNING ⚠️ Limiting validation plots to first 50 items per image for speed...\n",
            "WARNING ⚠️ Limiting validation plots to first 50 items per image for speed...\n",
            "WARNING ⚠️ Limiting validation plots to first 50 items per image for speed...\n"
          ]
        },
        {
          "output_type": "stream",
          "name": "stderr",
          "text": [
            "\r                 Class     Images  Instances      Box(P          R      mAP50  mAP50-95)     Mask(P          R      mAP50  mAP50-95):   6%|▋         | 1/16 [00:00<00:05,  2.75it/s]"
          ]
        },
        {
          "output_type": "stream",
          "name": "stdout",
          "text": [
            "WARNING ⚠️ Limiting validation plots to first 50 items per image for speed...\n",
            "WARNING ⚠️ Limiting validation plots to first 50 items per image for speed...\n",
            "WARNING ⚠️ Limiting validation plots to first 50 items per image for speed...\n",
            "WARNING ⚠️ Limiting validation plots to first 50 items per image for speed...\n",
            "WARNING ⚠️ Limiting validation plots to first 50 items per image for speed...\n",
            "WARNING ⚠️ Limiting validation plots to first 50 items per image for speed...\n"
          ]
        },
        {
          "output_type": "stream",
          "name": "stderr",
          "text": [
            "\r                 Class     Images  Instances      Box(P          R      mAP50  mAP50-95)     Mask(P          R      mAP50  mAP50-95):  12%|█▎        | 2/16 [00:00<00:05,  2.48it/s]"
          ]
        },
        {
          "output_type": "stream",
          "name": "stdout",
          "text": [
            "WARNING ⚠️ Limiting validation plots to first 50 items per image for speed...\n",
            "WARNING ⚠️ Limiting validation plots to first 50 items per image for speed...\n",
            "WARNING ⚠️ Limiting validation plots to first 50 items per image for speed...\n",
            "WARNING ⚠️ Limiting validation plots to first 50 items per image for speed...\n",
            "WARNING ⚠️ Limiting validation plots to first 50 items per image for speed...\n",
            "WARNING ⚠️ Limiting validation plots to first 50 items per image for speed...\n",
            "WARNING ⚠️ Limiting validation plots to first 50 items per image for speed...\n",
            "WARNING ⚠️ Limiting validation plots to first 50 items per image for speed...\n"
          ]
        },
        {
          "output_type": "stream",
          "name": "stderr",
          "text": [
            "                 Class     Images  Instances      Box(P          R      mAP50  mAP50-95)     Mask(P          R      mAP50  mAP50-95): 100%|██████████| 16/16 [00:04<00:00,  3.84it/s]\n"
          ]
        },
        {
          "output_type": "stream",
          "name": "stdout",
          "text": [
            "                   all        128        929      0.611      0.525      0.595      0.437      0.575      0.489      0.543      0.357\n",
            "                person         61        254      0.834      0.651      0.769      0.537      0.807      0.626       0.73      0.393\n",
            "               bicycle          3          6      0.281      0.167      0.272      0.219      0.293      0.167      0.266      0.178\n",
            "                   car         12         46       0.64      0.194      0.245      0.145      0.566      0.171      0.188     0.0873\n",
            "            motorcycle          4          5      0.832       0.99      0.928      0.752       0.83       0.98      0.928      0.485\n",
            "              airplane          5          6      0.738      0.945       0.87      0.649      0.607      0.776       0.71      0.532\n",
            "                   bus          5          7      0.502      0.714      0.719      0.571      0.504      0.714      0.719      0.574\n",
            "                 train          3          3      0.445      0.667      0.775      0.591      0.446      0.667      0.775      0.573\n",
            "                 truck          5         12      0.589      0.167      0.424      0.263      0.594      0.167      0.404      0.215\n",
            "                  boat          2          6      0.575      0.459      0.483      0.294      0.428      0.333      0.357     0.0983\n",
            "         traffic light          4         14       0.66      0.214      0.202      0.127      0.441      0.143      0.147      0.129\n",
            "             stop sign          2          2      0.593        0.5      0.828      0.663      0.595        0.5      0.828      0.597\n",
            "                 bench          5          9      0.582      0.314      0.458       0.17       0.21      0.111      0.156     0.0662\n",
            "                  bird          2         16      0.917      0.812      0.931      0.631      0.919      0.812      0.931      0.461\n",
            "                   cat          4          4      0.707          1      0.995      0.784      0.707          1      0.995      0.821\n",
            "                   dog          9          9      0.679      0.709      0.841      0.634      0.678      0.703      0.775      0.506\n",
            "                 horse          1          2      0.517          1      0.995      0.399      0.259        0.5       0.25     0.0998\n",
            "              elephant          4         17      0.914      0.882      0.917       0.71      0.915      0.882      0.888      0.564\n",
            "                  bear          1          1      0.635          1      0.995      0.995      0.637          1      0.995      0.995\n",
            "                 zebra          2          4      0.819          1      0.995      0.971       0.82          1      0.995      0.852\n",
            "               giraffe          4          9      0.893      0.928      0.984      0.707      0.676      0.697      0.803      0.469\n",
            "              backpack          4          6      0.452      0.285      0.366      0.226      0.447       0.28       0.32        0.2\n",
            "              umbrella          4         18      0.727      0.611      0.719      0.465      0.465      0.389      0.402      0.216\n",
            "               handbag          9         19      0.801      0.105      0.225      0.162      0.807      0.105      0.235       0.14\n",
            "                   tie          6          7      0.749      0.427      0.622      0.446      0.749      0.426      0.608      0.388\n",
            "              suitcase          2          4      0.913       0.75       0.87      0.708      0.926       0.75       0.87      0.647\n",
            "               frisbee          5          5      0.676        0.8      0.719       0.65       0.68        0.8      0.719      0.472\n",
            "                  skis          1          1      0.606          1      0.995      0.597      0.618          1      0.995     0.0995\n",
            "             snowboard          2          7      0.752      0.714      0.735      0.591      0.611      0.571      0.496       0.23\n",
            "           sports ball          6          6      0.687      0.373      0.441      0.291       0.37      0.203      0.277      0.226\n",
            "                  kite          2         10      0.665        0.3      0.419      0.191      0.667        0.3      0.347      0.156\n",
            "          baseball bat          4          4      0.707       0.25      0.377     0.0735      0.723       0.25      0.364      0.191\n",
            "        baseball glove          4          7      0.738      0.429      0.429      0.278      0.745      0.429      0.429      0.296\n",
            "            skateboard          3          5      0.659        0.2      0.341      0.184      0.663        0.2      0.345      0.201\n",
            "         tennis racket          5          7      0.492      0.429      0.359       0.23      0.494      0.429      0.391      0.227\n",
            "                bottle          6         18      0.446      0.359      0.388      0.185      0.417      0.333      0.362      0.188\n",
            "            wine glass          5         16      0.623      0.562      0.689      0.365       0.42      0.375      0.395      0.234\n",
            "                   cup         10         36      0.692      0.306      0.358      0.266      0.693      0.306      0.359      0.242\n",
            "                  fork          6          6       0.35      0.167      0.238      0.186      0.353      0.167      0.238      0.108\n",
            "                 knife          7         16        0.8      0.438      0.553      0.415      0.804      0.438      0.489      0.343\n",
            "                 spoon          5         22      0.446      0.273      0.414      0.266      0.447      0.273      0.406      0.195\n",
            "                  bowl          9         28      0.755      0.571      0.665      0.532      0.711      0.536       0.62      0.342\n",
            "                banana          1          1          0          0      0.124     0.0995          0          0      0.124     0.0746\n",
            "              sandwich          2          2      0.485          1      0.745       0.72      0.493          1      0.745      0.652\n",
            "                orange          1          4          1          0      0.526       0.34          1          0      0.526      0.341\n",
            "              broccoli          4         11      0.331      0.182      0.256      0.214      0.334      0.182      0.276      0.225\n",
            "                carrot          3         24      0.563      0.292      0.508      0.369      0.566      0.292      0.519      0.307\n",
            "               hot dog          1          2      0.277        0.5      0.695      0.695      0.278        0.5      0.695      0.606\n",
            "                 pizza          5          5      0.483          1      0.928      0.725      0.484          1      0.839      0.695\n",
            "                 donut          2         14      0.752      0.929       0.96       0.87      0.759      0.929       0.96      0.779\n",
            "                  cake          4          4      0.651          1      0.945      0.821      0.653          1      0.945      0.791\n",
            "                 chair          9         35       0.36      0.486      0.376      0.198      0.382      0.514      0.351      0.163\n",
            "                 couch          5          6      0.491      0.667      0.628      0.529       0.37        0.5      0.527      0.264\n",
            "          potted plant          9         14      0.693      0.429      0.593      0.402      0.583      0.357      0.573      0.273\n",
            "                   bed          3          3          1      0.368      0.995      0.395          1      0.357      0.995      0.392\n",
            "          dining table         10         13      0.412      0.538       0.49      0.376      0.121      0.154      0.124     0.0713\n",
            "                toilet          2          2      0.532        0.5      0.538      0.531      0.534        0.5      0.538      0.523\n",
            "                    tv          2          2      0.385          1      0.995      0.846      0.387          1      0.995      0.895\n",
            "                laptop          2          3          1          0      0.435      0.382          1          0      0.441      0.246\n",
            "                 mouse          2          2          0          0      0.067     0.0134          0          0          0          0\n",
            "                remote          5          8          1      0.576      0.641      0.485          1      0.575      0.657      0.451\n",
            "            cell phone          5          8      0.641       0.25      0.193     0.0963      0.647       0.25      0.177     0.0931\n",
            "             microwave          3          3      0.456          1      0.863       0.81      0.458          1      0.863      0.666\n",
            "                  oven          5          5       0.36        0.4      0.331      0.264      0.544        0.6      0.597      0.417\n",
            "                  sink          4          6      0.281      0.167      0.258      0.198      0.283      0.167      0.227       0.18\n",
            "          refrigerator          5          5      0.723        0.8      0.803      0.575      0.726        0.8      0.803       0.56\n",
            "                  book          6         29      0.336     0.0699      0.301      0.134      0.325     0.0669      0.229     0.0803\n",
            "                 clock          8          9      0.794      0.778      0.818      0.653      0.798      0.778      0.818       0.67\n",
            "                  vase          2          2      0.273          1      0.663      0.597      0.275          1      0.663      0.531\n",
            "              scissors          1          1          1          0          0          0          1          0          0          0\n",
            "            teddy bear          6         21      0.691      0.286      0.479      0.303      0.697      0.286      0.441      0.238\n",
            "            toothbrush          2          5      0.354        0.4      0.519      0.252      0.357        0.4      0.388      0.151\n",
            "Speed: 2.0ms preprocess, 11.1ms inference, 0.0ms loss, 3.2ms postprocess per image\n",
            "Results saved to \u001b[1mruns/segment/train22\u001b[0m\n",
            "\n",
            "Validation Results:\n",
            "==================\n",
            "Box mAP@0.5 (detection metric): 0.5947\n",
            "Mask mAP@0.5 (segmentation metric): 0.5429\n",
            "Mask mAP@0.5:0.95 (COCO metric): 0.3574\n",
            "Mask precision: 0.5745\n",
            "Mask recall: 0.4889\n"
          ]
        }
      ]
    }
  ]
}